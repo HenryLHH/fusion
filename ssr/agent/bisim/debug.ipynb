{
 "cells": [
  {
   "cell_type": "code",
   "execution_count": 1,
   "metadata": {},
   "outputs": [
    {
     "name": "stderr",
     "output_type": "stream",
     "text": [
      "/home/haohong/anaconda3/envs/metadrive/lib/python3.8/site-packages/ale_py/roms/__init__.py:89: DeprecationWarning: Automatic importing of atari-py roms won't be supported in future releases of ale-py. Please migrate over to using `ale-import-roms` OR an ALE-supported ROM package. To make this warning disappear you can run `ale-import-roms --import-from-pkg atari_py.atari_roms`.For more information see: https://github.com/mgbellemare/Arcade-Learning-Environment#rom-management\n",
      "  ROMS = resolve_roms()\n"
     ]
    },
    {
     "name": "stdout",
     "output_type": "stream",
     "text": [
      "WARNING:tensorflow:From /home/haohong/anaconda3/envs/metadrive/lib/python3.8/site-packages/tensorflow/python/compat/v2_compat.py:111: disable_resource_variables (from tensorflow.python.ops.variable_scope) is deprecated and will be removed in a future version.\n",
      "Instructions for updating:\n",
      "non-resource variables are not supported in the long term\n"
     ]
    },
    {
     "name": "stderr",
     "output_type": "stream",
     "text": [
      "/home/haohong/anaconda3/envs/metadrive/lib/python3.8/site-packages/glfw/__init__.py:912: GLFWError: (65544) b'X11: The DISPLAY environment variable is missing'\n",
      "  warnings.warn(message, GLFWError)\n"
     ]
    }
   ],
   "source": [
    "import numpy as np\n",
    "from ray.rllib.agents.ppo.ppo_torch_policy import SampleBatch\n",
    "from ray.rllib.models.torch.misc import normc_initializer\n",
    "from ray.rllib.models.torch.torch_modelv2 import TorchModelV2\n",
    "from ray.rllib.models.torch.visionnet import VisionNetwork\n",
    "\n",
    "from ray.rllib.utils import try_import_torch\n",
    "from ray.rllib.utils.framework import get_activation_fn\n",
    "\n",
    "from ray.rllib.utils.torch_ops import apply_grad_clipping, \\\n",
    "    convert_to_torch_tensor, explained_variance, sequence_mask\n",
    "\n",
    "import gym\n",
    "torch, nn = try_import_torch()"
   ]
  },
  {
   "cell_type": "code",
   "execution_count": 17,
   "metadata": {},
   "outputs": [
    {
     "name": "stdout",
     "output_type": "stream",
     "text": [
      "DEBUG:  num outputs:  0 out_channels:  256 True\n"
     ]
    }
   ],
   "source": [
    "sub_obs_space = gym.spaces.Box(-0.0, 1.0, shape=(84, 84,  2), dtype=np.float32)\n",
    "action_space = gym.spaces.Box(-0.0, 1.0, shape=(64,), dtype=np.float32)\n",
    "num_outputs = 0\n",
    "model_config = {'no_final_linear': True}\n",
    "vision_nets = VisionNetwork(sub_obs_space, action_space, num_outputs, model_config, 'vision_net_sub')"
   ]
  },
  {
   "cell_type": "code",
   "execution_count": 19,
   "metadata": {},
   "outputs": [
    {
     "data": {
      "text/plain": [
       "tensor([0.2934, 0.1994, 0.1595, 0.2788, 0.1874, 0.2148, 0.1763, 0.3203, 0.2110,\n",
       "        0.3410, 0.2590, 0.3134, 0.1288, 0.3208, 0.1855, 0.2111, 0.2917, 0.1556,\n",
       "        0.2361, 0.2349, 0.1994, 0.1827, 0.2329, 0.2994, 0.0951, 0.1791, 0.3883,\n",
       "        0.2506, 0.2487, 0.1546, 0.2575, 0.2078], grad_fn=<SqueezeBackward1>)"
      ]
     },
     "execution_count": 19,
     "metadata": {},
     "output_type": "execute_result"
    }
   ],
   "source": [
    "vision_nets.value_function()"
   ]
  },
  {
   "cell_type": "code",
   "execution_count": 18,
   "metadata": {},
   "outputs": [
    {
     "name": "stdout",
     "output_type": "stream",
     "text": [
      "visionnet:  cpu\n",
      "torch.Size([32, 256])\n"
     ]
    }
   ],
   "source": [
    "input_dict = {'obs': torch.rand(32, 84, 84, 2)}\n",
    "state = []\n",
    "seq_lens = 10\n",
    "ret = vision_nets(input_dict, state, seq_lens)\n",
    "print(ret[0].shape)"
   ]
  }
 ],
 "metadata": {
  "kernelspec": {
   "display_name": "Python 3.8.12 ('metadrive')",
   "language": "python",
   "name": "python3"
  },
  "language_info": {
   "codemirror_mode": {
    "name": "ipython",
    "version": 3
   },
   "file_extension": ".py",
   "mimetype": "text/x-python",
   "name": "python",
   "nbconvert_exporter": "python",
   "pygments_lexer": "ipython3",
   "version": "3.8.12"
  },
  "orig_nbformat": 4,
  "vscode": {
   "interpreter": {
    "hash": "70b38575c20f9d4cefe8b3898e36d5d109f4398cd5dd36d13e984bd7dc573d89"
   }
  }
 },
 "nbformat": 4,
 "nbformat_minor": 2
}
